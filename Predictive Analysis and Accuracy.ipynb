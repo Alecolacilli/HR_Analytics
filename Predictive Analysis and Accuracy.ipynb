{
 "cells": [
  {
   "cell_type": "code",
   "execution_count": 1,
   "metadata": {},
   "outputs": [],
   "source": [
    "# Import Dependencies\n",
    "%matplotlib inline\n",
    "\n",
    "# Start Python Imports\n",
    "import math, time, random, datetime\n",
    "\n",
    "# Data Manipulation\n",
    "import numpy as np\n",
    "import pandas as pd\n",
    "import missingno\n",
    "\n",
    "# Visualization \n",
    "import matplotlib.pyplot as plt\n",
    "import seaborn as sns\n",
    "plt.style.use('seaborn-whitegrid')\n",
    "\n",
    "# Preprocessing\n",
    "from sklearn.preprocessing import OneHotEncoder, LabelEncoder, label_binarize\n",
    "\n",
    "# Machine learning\n",
    "from sklearn.model_selection import train_test_split\n",
    "from sklearn.metrics import precision_score\n",
    "from sklearn import model_selection, tree, preprocessing, metrics, linear_model\n",
    "from sklearn.svm import LinearSVC\n",
    "from sklearn.ensemble import GradientBoostingClassifier\n",
    "from sklearn.neighbors import KNeighborsClassifier\n",
    "from sklearn.naive_bayes import GaussianNB\n",
    "from sklearn.linear_model import LinearRegression, LogisticRegression, SGDClassifier\n",
    "from sklearn.tree import DecisionTreeClassifier\n",
    "\n",
    "# Let's be rebels and ignore warnings for now\n",
    "import warnings\n",
    "warnings.filterwarnings('ignore')"
   ]
  },
  {
   "cell_type": "code",
   "execution_count": 2,
   "metadata": {},
   "outputs": [
    {
     "data": {
      "text/html": [
       "<div>\n",
       "<style scoped>\n",
       "    .dataframe tbody tr th:only-of-type {\n",
       "        vertical-align: middle;\n",
       "    }\n",
       "\n",
       "    .dataframe tbody tr th {\n",
       "        vertical-align: top;\n",
       "    }\n",
       "\n",
       "    .dataframe thead th {\n",
       "        text-align: right;\n",
       "    }\n",
       "</style>\n",
       "<table border=\"1\" class=\"dataframe\">\n",
       "  <thead>\n",
       "    <tr style=\"text-align: right;\">\n",
       "      <th></th>\n",
       "      <th>Attrition</th>\n",
       "      <th>EmployeeID</th>\n",
       "      <th>MonthlyIncome</th>\n",
       "      <th>PerformanceRating</th>\n",
       "      <th>PercentSalaryHike</th>\n",
       "      <th>JR_HealthRep</th>\n",
       "      <th>JR_HHRR</th>\n",
       "      <th>JR_LabTec</th>\n",
       "      <th>JR_Man</th>\n",
       "      <th>JR_MftDir</th>\n",
       "      <th>...</th>\n",
       "      <th>Ed_HHRR</th>\n",
       "      <th>Ed_LifeSci</th>\n",
       "      <th>Ed_Mktg</th>\n",
       "      <th>Ed_Med</th>\n",
       "      <th>Ed_Tech</th>\n",
       "      <th>Ed_Other</th>\n",
       "      <th>BusinessTravel</th>\n",
       "      <th>TrainingTimesLastYear</th>\n",
       "      <th>YearsSinceLastPromotion</th>\n",
       "      <th>YearsWithCurrManager</th>\n",
       "    </tr>\n",
       "  </thead>\n",
       "  <tbody>\n",
       "    <tr>\n",
       "      <td>0</td>\n",
       "      <td>0</td>\n",
       "      <td>1</td>\n",
       "      <td>131160</td>\n",
       "      <td>3</td>\n",
       "      <td>11</td>\n",
       "      <td>1</td>\n",
       "      <td>0</td>\n",
       "      <td>0</td>\n",
       "      <td>0</td>\n",
       "      <td>0</td>\n",
       "      <td>...</td>\n",
       "      <td>0</td>\n",
       "      <td>1</td>\n",
       "      <td>0</td>\n",
       "      <td>0</td>\n",
       "      <td>0</td>\n",
       "      <td>0</td>\n",
       "      <td>1</td>\n",
       "      <td>6</td>\n",
       "      <td>0</td>\n",
       "      <td>0</td>\n",
       "    </tr>\n",
       "    <tr>\n",
       "      <td>1</td>\n",
       "      <td>1</td>\n",
       "      <td>2</td>\n",
       "      <td>41890</td>\n",
       "      <td>4</td>\n",
       "      <td>23</td>\n",
       "      <td>0</td>\n",
       "      <td>0</td>\n",
       "      <td>0</td>\n",
       "      <td>0</td>\n",
       "      <td>0</td>\n",
       "      <td>...</td>\n",
       "      <td>0</td>\n",
       "      <td>1</td>\n",
       "      <td>0</td>\n",
       "      <td>0</td>\n",
       "      <td>0</td>\n",
       "      <td>0</td>\n",
       "      <td>2</td>\n",
       "      <td>3</td>\n",
       "      <td>1</td>\n",
       "      <td>4</td>\n",
       "    </tr>\n",
       "    <tr>\n",
       "      <td>2</td>\n",
       "      <td>0</td>\n",
       "      <td>3</td>\n",
       "      <td>193280</td>\n",
       "      <td>3</td>\n",
       "      <td>15</td>\n",
       "      <td>0</td>\n",
       "      <td>0</td>\n",
       "      <td>0</td>\n",
       "      <td>0</td>\n",
       "      <td>0</td>\n",
       "      <td>...</td>\n",
       "      <td>0</td>\n",
       "      <td>0</td>\n",
       "      <td>0</td>\n",
       "      <td>0</td>\n",
       "      <td>0</td>\n",
       "      <td>1</td>\n",
       "      <td>2</td>\n",
       "      <td>2</td>\n",
       "      <td>0</td>\n",
       "      <td>3</td>\n",
       "    </tr>\n",
       "    <tr>\n",
       "      <td>3</td>\n",
       "      <td>0</td>\n",
       "      <td>4</td>\n",
       "      <td>83210</td>\n",
       "      <td>3</td>\n",
       "      <td>11</td>\n",
       "      <td>0</td>\n",
       "      <td>1</td>\n",
       "      <td>0</td>\n",
       "      <td>0</td>\n",
       "      <td>0</td>\n",
       "      <td>...</td>\n",
       "      <td>0</td>\n",
       "      <td>1</td>\n",
       "      <td>0</td>\n",
       "      <td>0</td>\n",
       "      <td>0</td>\n",
       "      <td>0</td>\n",
       "      <td>0</td>\n",
       "      <td>5</td>\n",
       "      <td>7</td>\n",
       "      <td>5</td>\n",
       "    </tr>\n",
       "    <tr>\n",
       "      <td>4</td>\n",
       "      <td>0</td>\n",
       "      <td>5</td>\n",
       "      <td>23420</td>\n",
       "      <td>3</td>\n",
       "      <td>12</td>\n",
       "      <td>0</td>\n",
       "      <td>0</td>\n",
       "      <td>0</td>\n",
       "      <td>0</td>\n",
       "      <td>0</td>\n",
       "      <td>...</td>\n",
       "      <td>0</td>\n",
       "      <td>0</td>\n",
       "      <td>0</td>\n",
       "      <td>1</td>\n",
       "      <td>0</td>\n",
       "      <td>0</td>\n",
       "      <td>1</td>\n",
       "      <td>2</td>\n",
       "      <td>0</td>\n",
       "      <td>4</td>\n",
       "    </tr>\n",
       "  </tbody>\n",
       "</table>\n",
       "<p>5 rows × 41 columns</p>\n",
       "</div>"
      ],
      "text/plain": [
       "   Attrition  EmployeeID  MonthlyIncome  PerformanceRating  PercentSalaryHike  \\\n",
       "0          0           1         131160                  3                 11   \n",
       "1          1           2          41890                  4                 23   \n",
       "2          0           3         193280                  3                 15   \n",
       "3          0           4          83210                  3                 11   \n",
       "4          0           5          23420                  3                 12   \n",
       "\n",
       "   JR_HealthRep  JR_HHRR  JR_LabTec  JR_Man  JR_MftDir  ...  Ed_HHRR  \\\n",
       "0             1        0          0       0          0  ...        0   \n",
       "1             0        0          0       0          0  ...        0   \n",
       "2             0        0          0       0          0  ...        0   \n",
       "3             0        1          0       0          0  ...        0   \n",
       "4             0        0          0       0          0  ...        0   \n",
       "\n",
       "   Ed_LifeSci  Ed_Mktg  Ed_Med  Ed_Tech  Ed_Other  BusinessTravel  \\\n",
       "0           1        0       0        0         0               1   \n",
       "1           1        0       0        0         0               2   \n",
       "2           0        0       0        0         1               2   \n",
       "3           1        0       0        0         0               0   \n",
       "4           0        0       1        0         0               1   \n",
       "\n",
       "   TrainingTimesLastYear  YearsSinceLastPromotion  YearsWithCurrManager  \n",
       "0                      6                        0                     0  \n",
       "1                      3                        1                     4  \n",
       "2                      2                        0                     3  \n",
       "3                      5                        7                     5  \n",
       "4                      2                        0                     4  \n",
       "\n",
       "[5 rows x 41 columns]"
      ]
     },
     "execution_count": 2,
     "metadata": {},
     "output_type": "execute_result"
    }
   ],
   "source": [
    "# Import selected dataframe with the data that will be used to train the Machine Learning algorithm \n",
    "clean_train = pd.read_csv('HR_Clean_Analytic_train.csv')\n",
    "clean_train.head()"
   ]
  },
  {
   "cell_type": "code",
   "execution_count": 3,
   "metadata": {},
   "outputs": [],
   "source": [
    "# Split the dataframe into data and labels\n",
    "X_axis = clean_train.drop('Attrition', axis=1) # This will be the data\n",
    "y_axis = clean_train.Attrition # This will be the labels"
   ]
  },
  {
   "cell_type": "code",
   "execution_count": 4,
   "metadata": {},
   "outputs": [
    {
     "data": {
      "text/html": [
       "<div>\n",
       "<style scoped>\n",
       "    .dataframe tbody tr th:only-of-type {\n",
       "        vertical-align: middle;\n",
       "    }\n",
       "\n",
       "    .dataframe tbody tr th {\n",
       "        vertical-align: top;\n",
       "    }\n",
       "\n",
       "    .dataframe thead th {\n",
       "        text-align: right;\n",
       "    }\n",
       "</style>\n",
       "<table border=\"1\" class=\"dataframe\">\n",
       "  <thead>\n",
       "    <tr style=\"text-align: right;\">\n",
       "      <th></th>\n",
       "      <th>EmployeeID</th>\n",
       "      <th>MonthlyIncome</th>\n",
       "      <th>PerformanceRating</th>\n",
       "      <th>PercentSalaryHike</th>\n",
       "      <th>JR_HealthRep</th>\n",
       "      <th>JR_HHRR</th>\n",
       "      <th>JR_LabTec</th>\n",
       "      <th>JR_Man</th>\n",
       "      <th>JR_MftDir</th>\n",
       "      <th>JR_ResDir</th>\n",
       "      <th>...</th>\n",
       "      <th>Ed_HHRR</th>\n",
       "      <th>Ed_LifeSci</th>\n",
       "      <th>Ed_Mktg</th>\n",
       "      <th>Ed_Med</th>\n",
       "      <th>Ed_Tech</th>\n",
       "      <th>Ed_Other</th>\n",
       "      <th>BusinessTravel</th>\n",
       "      <th>TrainingTimesLastYear</th>\n",
       "      <th>YearsSinceLastPromotion</th>\n",
       "      <th>YearsWithCurrManager</th>\n",
       "    </tr>\n",
       "  </thead>\n",
       "  <tbody>\n",
       "    <tr>\n",
       "      <td>0</td>\n",
       "      <td>1</td>\n",
       "      <td>131160</td>\n",
       "      <td>3</td>\n",
       "      <td>11</td>\n",
       "      <td>1</td>\n",
       "      <td>0</td>\n",
       "      <td>0</td>\n",
       "      <td>0</td>\n",
       "      <td>0</td>\n",
       "      <td>0</td>\n",
       "      <td>...</td>\n",
       "      <td>0</td>\n",
       "      <td>1</td>\n",
       "      <td>0</td>\n",
       "      <td>0</td>\n",
       "      <td>0</td>\n",
       "      <td>0</td>\n",
       "      <td>1</td>\n",
       "      <td>6</td>\n",
       "      <td>0</td>\n",
       "      <td>0</td>\n",
       "    </tr>\n",
       "    <tr>\n",
       "      <td>1</td>\n",
       "      <td>2</td>\n",
       "      <td>41890</td>\n",
       "      <td>4</td>\n",
       "      <td>23</td>\n",
       "      <td>0</td>\n",
       "      <td>0</td>\n",
       "      <td>0</td>\n",
       "      <td>0</td>\n",
       "      <td>0</td>\n",
       "      <td>0</td>\n",
       "      <td>...</td>\n",
       "      <td>0</td>\n",
       "      <td>1</td>\n",
       "      <td>0</td>\n",
       "      <td>0</td>\n",
       "      <td>0</td>\n",
       "      <td>0</td>\n",
       "      <td>2</td>\n",
       "      <td>3</td>\n",
       "      <td>1</td>\n",
       "      <td>4</td>\n",
       "    </tr>\n",
       "    <tr>\n",
       "      <td>2</td>\n",
       "      <td>3</td>\n",
       "      <td>193280</td>\n",
       "      <td>3</td>\n",
       "      <td>15</td>\n",
       "      <td>0</td>\n",
       "      <td>0</td>\n",
       "      <td>0</td>\n",
       "      <td>0</td>\n",
       "      <td>0</td>\n",
       "      <td>0</td>\n",
       "      <td>...</td>\n",
       "      <td>0</td>\n",
       "      <td>0</td>\n",
       "      <td>0</td>\n",
       "      <td>0</td>\n",
       "      <td>0</td>\n",
       "      <td>1</td>\n",
       "      <td>2</td>\n",
       "      <td>2</td>\n",
       "      <td>0</td>\n",
       "      <td>3</td>\n",
       "    </tr>\n",
       "    <tr>\n",
       "      <td>3</td>\n",
       "      <td>4</td>\n",
       "      <td>83210</td>\n",
       "      <td>3</td>\n",
       "      <td>11</td>\n",
       "      <td>0</td>\n",
       "      <td>1</td>\n",
       "      <td>0</td>\n",
       "      <td>0</td>\n",
       "      <td>0</td>\n",
       "      <td>0</td>\n",
       "      <td>...</td>\n",
       "      <td>0</td>\n",
       "      <td>1</td>\n",
       "      <td>0</td>\n",
       "      <td>0</td>\n",
       "      <td>0</td>\n",
       "      <td>0</td>\n",
       "      <td>0</td>\n",
       "      <td>5</td>\n",
       "      <td>7</td>\n",
       "      <td>5</td>\n",
       "    </tr>\n",
       "    <tr>\n",
       "      <td>4</td>\n",
       "      <td>5</td>\n",
       "      <td>23420</td>\n",
       "      <td>3</td>\n",
       "      <td>12</td>\n",
       "      <td>0</td>\n",
       "      <td>0</td>\n",
       "      <td>0</td>\n",
       "      <td>0</td>\n",
       "      <td>0</td>\n",
       "      <td>0</td>\n",
       "      <td>...</td>\n",
       "      <td>0</td>\n",
       "      <td>0</td>\n",
       "      <td>0</td>\n",
       "      <td>1</td>\n",
       "      <td>0</td>\n",
       "      <td>0</td>\n",
       "      <td>1</td>\n",
       "      <td>2</td>\n",
       "      <td>0</td>\n",
       "      <td>4</td>\n",
       "    </tr>\n",
       "  </tbody>\n",
       "</table>\n",
       "<p>5 rows × 40 columns</p>\n",
       "</div>"
      ],
      "text/plain": [
       "   EmployeeID  MonthlyIncome  PerformanceRating  PercentSalaryHike  \\\n",
       "0           1         131160                  3                 11   \n",
       "1           2          41890                  4                 23   \n",
       "2           3         193280                  3                 15   \n",
       "3           4          83210                  3                 11   \n",
       "4           5          23420                  3                 12   \n",
       "\n",
       "   JR_HealthRep  JR_HHRR  JR_LabTec  JR_Man  JR_MftDir  JR_ResDir  ...  \\\n",
       "0             1        0          0       0          0          0  ...   \n",
       "1             0        0          0       0          0          0  ...   \n",
       "2             0        0          0       0          0          0  ...   \n",
       "3             0        1          0       0          0          0  ...   \n",
       "4             0        0          0       0          0          0  ...   \n",
       "\n",
       "   Ed_HHRR  Ed_LifeSci  Ed_Mktg  Ed_Med  Ed_Tech  Ed_Other  BusinessTravel  \\\n",
       "0        0           1        0       0        0         0               1   \n",
       "1        0           1        0       0        0         0               2   \n",
       "2        0           0        0       0        0         1               2   \n",
       "3        0           1        0       0        0         0               0   \n",
       "4        0           0        0       1        0         0               1   \n",
       "\n",
       "   TrainingTimesLastYear  YearsSinceLastPromotion  YearsWithCurrManager  \n",
       "0                      6                        0                     0  \n",
       "1                      3                        1                     4  \n",
       "2                      2                        0                     3  \n",
       "3                      5                        7                     5  \n",
       "4                      2                        0                     4  \n",
       "\n",
       "[5 rows x 40 columns]"
      ]
     },
     "execution_count": 4,
     "metadata": {},
     "output_type": "execute_result"
    }
   ],
   "source": [
    "# Shape of the data (without labels)\n",
    "X_axis.head()"
   ]
  },
  {
   "cell_type": "code",
   "execution_count": 5,
   "metadata": {},
   "outputs": [
    {
     "data": {
      "text/plain": [
       "0    0\n",
       "1    1\n",
       "2    0\n",
       "3    0\n",
       "4    0\n",
       "Name: Attrition, dtype: int64"
      ]
     },
     "execution_count": 5,
     "metadata": {},
     "output_type": "execute_result"
    }
   ],
   "source": [
    "y_axis.head()"
   ]
  },
  {
   "cell_type": "code",
   "execution_count": 6,
   "metadata": {},
   "outputs": [],
   "source": [
    "# Function to get some the accuracy metrics\n",
    "# The algorithms that I will test are from the sklearn library \n",
    "# As they take similar inputs and generates similar outputs, is good to have function to avoid writing the same code.\n",
    "\n",
    "def accuracy_metric(algorithm, X_axis, y_axis, cross_val):\n",
    "    \n",
    "    # Try the estimator with one execution\n",
    "    estimator = algorithm.fit(X_axis, y_axis)\n",
    "    accuracy = round(estimator.score(X_axis, y_axis) * 100, 2)\n",
    "    \n",
    "    # Cross Validation (multiples executions with The data split according to the cv parameter)\n",
    "    estimator_cv = model_selection.cross_val_predict(algorithm,  # The algorithm to use to fit the data\n",
    "                                                  X_axis,        # The data to fit\n",
    "                                                  y_axis,        # The target variable\n",
    "                                                  cv=cross_val,  # Number of splits\n",
    "                                                  n_jobs = -1)   # Using all processors to do the computation\n",
    "    # Cross-validation accuracy metric\n",
    "    accuracy_cv = round(metrics.accuracy_score(y_axis, estimator_cv) * 100, 2)\n",
    "    \n",
    "    return estimator_cv, accuracy, accuracy_cv"
   ]
  },
  {
   "cell_type": "markdown",
   "metadata": {},
   "source": [
    "<h1>Algorithm Accuracy Test</h1><p>\n",
    "<p><span style=\"color: #ff6600;\">Test different algorithm to identify their accuracy with the provided data</span></p>\n"
   ]
  },
  {
   "cell_type": "code",
   "execution_count": 7,
   "metadata": {},
   "outputs": [
    {
     "name": "stdout",
     "output_type": "stream",
     "text": [
      "Accuracy: 83.84\n",
      "Accuracy CV 10-Fold: 83.84\n",
      "Running Time: 0:00:02.658001\n"
     ]
    }
   ],
   "source": [
    "# Algorithm: Logistic Regression \n",
    "start_time = time.time()\n",
    "log_train_pred, log_accuracy, log_crossVal = accuracy_metric(LogisticRegression(), X_axis, y_axis, 10)\n",
    "\n",
    "log_time = (time.time() - start_time)\n",
    "print(\"Accuracy: %s\" % log_accuracy)\n",
    "print(\"Accuracy CV 10-Fold: %s\" % log_crossVal)\n",
    "print(\"Running Time: %s\" % datetime.timedelta(seconds=log_time))"
   ]
  },
  {
   "cell_type": "code",
   "execution_count": 8,
   "metadata": {},
   "outputs": [
    {
     "name": "stdout",
     "output_type": "stream",
     "text": [
      "Accuracy: 84.93\n",
      "Accuracy CV 10-Fold: 81.21\n",
      "Running Time: 0:00:00.675028\n"
     ]
    }
   ],
   "source": [
    "# Algorithm: k-Nearest Neighbours\n",
    "start_time = time.time()\n",
    "knn_train_pred, knn_accuracy, knn_crossVal = accuracy_metric(KNeighborsClassifier(), X_axis, y_axis, 10)\n",
    "\n",
    "knn_time = (time.time() - start_time)\n",
    "print(\"Accuracy: %s\" % knn_accuracy)\n",
    "print(\"Accuracy CV 10-Fold: %s\" % knn_crossVal)\n",
    "print(\"Running Time: %s\" % datetime.timedelta(seconds=knn_time))"
   ]
  },
  {
   "cell_type": "code",
   "execution_count": 9,
   "metadata": {},
   "outputs": [
    {
     "name": "stdout",
     "output_type": "stream",
     "text": [
      "Accuracy: 83.84\n",
      "Accuracy CV 10-Fold: 83.84\n",
      "Running Time: 0:00:00.199681\n"
     ]
    }
   ],
   "source": [
    "# Algorithm: Gaussian Naive Bayes\n",
    "start_time = time.time()\n",
    "gnd_train_pred, gnd_accuracy, gnd_crossVal = accuracy_metric(GaussianNB(), X_axis, y_axis, 10)\n",
    "\n",
    "gaussian_time = (time.time() - start_time)\n",
    "print(\"Accuracy: %s\" % gnd_accuracy)\n",
    "print(\"Accuracy CV 10-Fold: %s\" % gnd_crossVal)\n",
    "print(\"Running Time: %s\" % datetime.timedelta(seconds=gaussian_time))"
   ]
  },
  {
   "cell_type": "code",
   "execution_count": 10,
   "metadata": {},
   "outputs": [
    {
     "name": "stdout",
     "output_type": "stream",
     "text": [
      "Accuracy: 100.0\n",
      "Accuracy CV 10-Fold: 99.6\n",
      "Running Time: 0:00:00.210870\n"
     ]
    }
   ],
   "source": [
    "# Algorithm: Decision Tree Classifier\n",
    "start_time = time.time()\n",
    "dtc_train_pred, dtc_accuracy, dtc_crossVal = accuracy_metric(DecisionTreeClassifier(), X_axis, y_axis, 10)\n",
    "\n",
    "dt_time = (time.time() - start_time)\n",
    "print(\"Accuracy: %s\" % dtc_accuracy)\n",
    "print(\"Accuracy CV 10-Fold: %s\" % dtc_crossVal)\n",
    "print(\"Running Time: %s\" % datetime.timedelta(seconds=dt_time))"
   ]
  },
  {
   "cell_type": "code",
   "execution_count": 11,
   "metadata": {},
   "outputs": [
    {
     "name": "stdout",
     "output_type": "stream",
     "text": [
      "Accuracy: 89.84\n",
      "Accuracy CV 10-Fold: 88.56\n",
      "Running Time: 0:00:02.676677\n"
     ]
    }
   ],
   "source": [
    "# Algorithm: Gradient Boosting Trees\n",
    "start_time = time.time()\n",
    "gbt_train_pred, gbt_accuracy, gbt_crossVal = accuracy_metric(GradientBoostingClassifier(), X_axis, y_axis, 10)\n",
    "\n",
    "gbt_time = (time.time() - start_time)\n",
    "print(\"Accuracy: %s\" % gbt_accuracy)\n",
    "print(\"Accuracy CV 10-Fold: %s\" % gbt_crossVal)\n",
    "print(\"Running Time: %s\" % datetime.timedelta(seconds=gbt_time))"
   ]
  },
  {
   "cell_type": "markdown",
   "metadata": {},
   "source": [
    "<h2>Comparison of Results</h2>\n"
   ]
  },
  {
   "cell_type": "code",
   "execution_count": 12,
   "metadata": {},
   "outputs": [
    {
     "name": "stdout",
     "output_type": "stream",
     "text": [
      "---Reuglar Accuracy Scores---\n"
     ]
    },
    {
     "data": {
      "text/html": [
       "<div>\n",
       "<style scoped>\n",
       "    .dataframe tbody tr th:only-of-type {\n",
       "        vertical-align: middle;\n",
       "    }\n",
       "\n",
       "    .dataframe tbody tr th {\n",
       "        vertical-align: top;\n",
       "    }\n",
       "\n",
       "    .dataframe thead th {\n",
       "        text-align: right;\n",
       "    }\n",
       "</style>\n",
       "<table border=\"1\" class=\"dataframe\">\n",
       "  <thead>\n",
       "    <tr style=\"text-align: right;\">\n",
       "      <th></th>\n",
       "      <th>Model</th>\n",
       "      <th>Score</th>\n",
       "      <th>CV Score</th>\n",
       "    </tr>\n",
       "  </thead>\n",
       "  <tbody>\n",
       "    <tr>\n",
       "      <td>3</td>\n",
       "      <td>Decision Tree</td>\n",
       "      <td>100.00</td>\n",
       "      <td>99.60</td>\n",
       "    </tr>\n",
       "    <tr>\n",
       "      <td>4</td>\n",
       "      <td>Gradient Boosting Trees</td>\n",
       "      <td>89.84</td>\n",
       "      <td>88.56</td>\n",
       "    </tr>\n",
       "    <tr>\n",
       "      <td>0</td>\n",
       "      <td>Logistic Regression</td>\n",
       "      <td>83.84</td>\n",
       "      <td>83.84</td>\n",
       "    </tr>\n",
       "    <tr>\n",
       "      <td>2</td>\n",
       "      <td>Gaussian Naive Bayes</td>\n",
       "      <td>83.84</td>\n",
       "      <td>83.84</td>\n",
       "    </tr>\n",
       "    <tr>\n",
       "      <td>1</td>\n",
       "      <td>k-Nearest Neighbours</td>\n",
       "      <td>84.93</td>\n",
       "      <td>81.21</td>\n",
       "    </tr>\n",
       "  </tbody>\n",
       "</table>\n",
       "</div>"
      ],
      "text/plain": [
       "                     Model   Score  CV Score\n",
       "3            Decision Tree  100.00     99.60\n",
       "4  Gradient Boosting Trees   89.84     88.56\n",
       "0      Logistic Regression   83.84     83.84\n",
       "2     Gaussian Naive Bayes   83.84     83.84\n",
       "1     k-Nearest Neighbours   84.93     81.21"
      ]
     },
     "execution_count": 12,
     "metadata": {},
     "output_type": "execute_result"
    }
   ],
   "source": [
    "models = pd.DataFrame({\n",
    "    'Model': ['Logistic Regression', 'k-Nearest Neighbours', \n",
    "              'Gaussian Naive Bayes', 'Decision Tree', 'Gradient Boosting Trees'],\n",
    "    'Score': [\n",
    "        log_accuracy,\n",
    "        knn_accuracy, \n",
    "        gnd_accuracy, \n",
    "        dtc_accuracy,\n",
    "        gbt_accuracy,\n",
    "    ]})\n",
    "\n",
    "cv_models = pd.DataFrame({\n",
    "    'Model': ['Logistic Regression', 'k-Nearest Neighbours', \n",
    "              'Gaussian Naive Bayes', 'Decision Tree', 'Gradient Boosting Trees'],\n",
    "    'Score': [\n",
    "        log_crossVal, \n",
    "        knn_crossVal,      \n",
    "        gnd_crossVal, \n",
    "        dtc_crossVal,\n",
    "        gbt_crossVal,\n",
    "    ]})\n",
    "\n",
    "results = pd.DataFrame()\n",
    "results['Model'] = models['Model']\n",
    "results['Score'] = models['Score']\n",
    "results['CV Score'] = cv_models['Score']\n",
    "\n",
    "\n",
    "print(\"---Reuglar Accuracy Scores---\")\n",
    "results.sort_values(by='CV Score', ascending=False)"
   ]
  },
  {
   "cell_type": "markdown",
   "metadata": {},
   "source": [
    "<p><span style=\"color: #ff6600;\">The most accurate model is the Decision Tree Classifier</span></p>"
   ]
  },
  {
   "cell_type": "code",
   "execution_count": 13,
   "metadata": {},
   "outputs": [],
   "source": [
    "# The selected algorithm will be the Decision tree Classifier\n",
    "# Split the dataset for train and test using the best random split\n",
    "\n",
    "X = X_axis.values\n",
    "Y = y_axis.values\n",
    "indices = X_axis['EmployeeID']\n",
    "X_train, X_test, Y_train, Y_test, Index_train, Index_test = train_test_split(X, Y, indices, test_size=0.25, random_state = 4)\n"
   ]
  },
  {
   "cell_type": "code",
   "execution_count": 14,
   "metadata": {},
   "outputs": [
    {
     "name": "stdout",
     "output_type": "stream",
     "text": [
      "Accuracy:  0.986046511627907\n",
      "Micro-averaged precision score: 0.99\n",
      "Macro-averaged precision score: 0.97\n",
      "Per-class precision score: [0.9921875  0.95530726]\n"
     ]
    }
   ],
   "source": [
    "decision = tree.DecisionTreeClassifier(criterion='gini')\n",
    "decision.fit(X_train, Y_train)\n",
    "\n",
    "y_pred = decision.predict(X_test)\n",
    "y_score = decision.score(X_test, Y_test)\n",
    "print('Accuracy: ', y_score)\n",
    "\n",
    "# Compute the average precision score\n",
    "micro_precision = precision_score(y_pred, Y_test, average='micro')\n",
    "print('Micro-averaged precision score: {0:0.2f}'.format(\n",
    "      micro_precision))\n",
    "\n",
    "macro_precision = precision_score(y_pred, Y_test, average='macro')\n",
    "print('Macro-averaged precision score: {0:0.2f}'.format(\n",
    "      macro_precision))\n",
    "\n",
    "per_class_precision = precision_score(y_pred, Y_test, average=None)\n",
    "print('Per-class precision score:', per_class_precision)"
   ]
  },
  {
   "cell_type": "markdown",
   "metadata": {},
   "source": [
    "<h1>DataFrame Column Importance</h1><p>\n",
    "Check the importance of each column inside the dataframe. Sometimes droping a column gets more accuracy on the models"
   ]
  },
  {
   "cell_type": "code",
   "execution_count": 15,
   "metadata": {},
   "outputs": [],
   "source": [
    "# DataFrame column importance\n",
    "def data_importance(algorithm, data):\n",
    "    \"\"\"\n",
    "    Function to show which features are most important in the model.\n",
    "    ::param_model:: Which model to use?\n",
    "    ::param_data:: What data to use?\n",
    "    \"\"\"\n",
    "    fea_imp = pd.DataFrame({'imp': algorithm.feature_importances_, 'col': data.columns})\n",
    "    fea_imp = fea_imp.sort_values(['imp', 'col'], ascending=[True, False]).iloc[-30:]\n",
    "    _ = fea_imp.plot(kind='barh', x='col', y='imp', figsize=(20, 20))\n",
    "\n",
    "#    return fea_imp"
   ]
  },
  {
   "cell_type": "code",
   "execution_count": 16,
   "metadata": {},
   "outputs": [
    {
     "data": {
      "image/png": "[encoded data removed]",
      "text/plain": [
       "<Figure size 1440x1440 with 1 Axes>"
      ]
     },
     "metadata": {
      "needs_background": "light"
     },
     "output_type": "display_data"
    }
   ],
   "source": [
    "# Plot the feature importance scores\n",
    "data_importance(decision, X_axis)"
   ]
  },
  {
   "cell_type": "code",
   "execution_count": 17,
   "metadata": {},
   "outputs": [],
   "source": [
    "from sklearn.tree import export_graphviz\n",
    "\n",
    "feature_names = [i for i in X_axis.columns]\n",
    "export_graphviz(\n",
    "        decision,\n",
    "        out_file=\"attrition_tree.dot\",\n",
    "        feature_names = feature_names,\n",
    "        rounded=True, proportion = False, \n",
    "        precision = 2, filled=True)"
   ]
  },
  {
   "cell_type": "code",
   "execution_count": 18,
   "metadata": {},
   "outputs": [
    {
     "data": {
      "text/plain": [
       "array([0, 0, 0, 0, 0, 0, 1, 0, 1, 0, 0, 0, 0, 0, 0, 1, 1, 0, 0, 0],\n",
       "      dtype=int64)"
      ]
     },
     "execution_count": 18,
     "metadata": {},
     "output_type": "execute_result"
    }
   ],
   "source": [
    "y_pred[:20]"
   ]
  },
  {
   "cell_type": "code",
   "execution_count": 19,
   "metadata": {},
   "outputs": [
    {
     "data": {
      "text/plain": [
       "array([0, 0, 0, 0, 0, 0, 1, 0, 1, 0, 0, 0, 0, 1, 0, 1, 1, 0, 0, 0],\n",
       "      dtype=int64)"
      ]
     },
     "execution_count": 19,
     "metadata": {},
     "output_type": "execute_result"
    }
   ],
   "source": [
    "Y_test[:20]"
   ]
  },
  {
   "cell_type": "markdown",
   "metadata": {},
   "source": [
    "<h1>Compare predicted data with real data</h1><p>\n",
    "\n",
    "<h3>Predicted Data</h3>"
   ]
  },
  {
   "cell_type": "code",
   "execution_count": 20,
   "metadata": {},
   "outputs": [
    {
     "data": {
      "text/html": [
       "<div>\n",
       "<style scoped>\n",
       "    .dataframe tbody tr th:only-of-type {\n",
       "        vertical-align: middle;\n",
       "    }\n",
       "\n",
       "    .dataframe tbody tr th {\n",
       "        vertical-align: top;\n",
       "    }\n",
       "\n",
       "    .dataframe thead th {\n",
       "        text-align: right;\n",
       "    }\n",
       "</style>\n",
       "<table border=\"1\" class=\"dataframe\">\n",
       "  <thead>\n",
       "    <tr style=\"text-align: right;\">\n",
       "      <th></th>\n",
       "      <th>EmployeeID</th>\n",
       "      <th>Attrition</th>\n",
       "    </tr>\n",
       "  </thead>\n",
       "  <tbody>\n",
       "    <tr>\n",
       "      <td>133</td>\n",
       "      <td>142</td>\n",
       "      <td>0</td>\n",
       "    </tr>\n",
       "    <tr>\n",
       "      <td>3594</td>\n",
       "      <td>3691</td>\n",
       "      <td>0</td>\n",
       "    </tr>\n",
       "    <tr>\n",
       "      <td>497</td>\n",
       "      <td>517</td>\n",
       "      <td>0</td>\n",
       "    </tr>\n",
       "    <tr>\n",
       "      <td>3226</td>\n",
       "      <td>3316</td>\n",
       "      <td>0</td>\n",
       "    </tr>\n",
       "    <tr>\n",
       "      <td>2312</td>\n",
       "      <td>2383</td>\n",
       "      <td>0</td>\n",
       "    </tr>\n",
       "    <tr>\n",
       "      <td>1220</td>\n",
       "      <td>1259</td>\n",
       "      <td>0</td>\n",
       "    </tr>\n",
       "    <tr>\n",
       "      <td>3370</td>\n",
       "      <td>3462</td>\n",
       "      <td>1</td>\n",
       "    </tr>\n",
       "    <tr>\n",
       "      <td>3111</td>\n",
       "      <td>3199</td>\n",
       "      <td>0</td>\n",
       "    </tr>\n",
       "    <tr>\n",
       "      <td>1706</td>\n",
       "      <td>1760</td>\n",
       "      <td>1</td>\n",
       "    </tr>\n",
       "    <tr>\n",
       "      <td>2656</td>\n",
       "      <td>2735</td>\n",
       "      <td>0</td>\n",
       "    </tr>\n",
       "    <tr>\n",
       "      <td>1170</td>\n",
       "      <td>1208</td>\n",
       "      <td>0</td>\n",
       "    </tr>\n",
       "    <tr>\n",
       "      <td>4081</td>\n",
       "      <td>4185</td>\n",
       "      <td>0</td>\n",
       "    </tr>\n",
       "    <tr>\n",
       "      <td>3263</td>\n",
       "      <td>3354</td>\n",
       "      <td>0</td>\n",
       "    </tr>\n",
       "    <tr>\n",
       "      <td>3297</td>\n",
       "      <td>3389</td>\n",
       "      <td>0</td>\n",
       "    </tr>\n",
       "    <tr>\n",
       "      <td>2440</td>\n",
       "      <td>2514</td>\n",
       "      <td>0</td>\n",
       "    </tr>\n",
       "  </tbody>\n",
       "</table>\n",
       "</div>"
      ],
      "text/plain": [
       "      EmployeeID  Attrition\n",
       "133          142          0\n",
       "3594        3691          0\n",
       "497          517          0\n",
       "3226        3316          0\n",
       "2312        2383          0\n",
       "1220        1259          0\n",
       "3370        3462          1\n",
       "3111        3199          0\n",
       "1706        1760          1\n",
       "2656        2735          0\n",
       "1170        1208          0\n",
       "4081        4185          0\n",
       "3263        3354          0\n",
       "3297        3389          0\n",
       "2440        2514          0"
      ]
     },
     "execution_count": 20,
     "metadata": {},
     "output_type": "execute_result"
    }
   ],
   "source": [
    "presentation = pd.DataFrame()\n",
    "presentation['EmployeeID'] = Index_test\n",
    "presentation['Attrition'] = y_pred\n",
    "presentation.head(15)"
   ]
  },
  {
   "cell_type": "code",
   "execution_count": 24,
   "metadata": {},
   "outputs": [
    {
     "data": {
      "image/png": "[encoded data removed]",
      "text/plain": [
       "<Figure size 720x144 with 1 Axes>"
      ]
     },
     "metadata": {
      "needs_background": "light"
     },
     "output_type": "display_data"
    }
   ],
   "source": [
    "fig, (ax1) = plt.subplots(figsize=(10,2))\n",
    "ax1 = sns.countplot(x='Attrition', data=presentation, ax=ax1).set_title('Probability of employees leaving the company')\n",
    "\n",
    "presentation = presentation.sort_values(by='EmployeeID', ascending=True)"
   ]
  },
  {
   "cell_type": "markdown",
   "metadata": {},
   "source": [
    "<h3>Real Data</h3>"
   ]
  },
  {
   "cell_type": "code",
   "execution_count": 21,
   "metadata": {},
   "outputs": [
    {
     "data": {
      "text/html": [
       "<div>\n",
       "<style scoped>\n",
       "    .dataframe tbody tr th:only-of-type {\n",
       "        vertical-align: middle;\n",
       "    }\n",
       "\n",
       "    .dataframe tbody tr th {\n",
       "        vertical-align: top;\n",
       "    }\n",
       "\n",
       "    .dataframe thead th {\n",
       "        text-align: right;\n",
       "    }\n",
       "</style>\n",
       "<table border=\"1\" class=\"dataframe\">\n",
       "  <thead>\n",
       "    <tr style=\"text-align: right;\">\n",
       "      <th></th>\n",
       "      <th>EmployeeID</th>\n",
       "      <th>Attrition</th>\n",
       "    </tr>\n",
       "  </thead>\n",
       "  <tbody>\n",
       "    <tr>\n",
       "      <td>133</td>\n",
       "      <td>142</td>\n",
       "      <td>0</td>\n",
       "    </tr>\n",
       "    <tr>\n",
       "      <td>3594</td>\n",
       "      <td>3691</td>\n",
       "      <td>0</td>\n",
       "    </tr>\n",
       "    <tr>\n",
       "      <td>497</td>\n",
       "      <td>517</td>\n",
       "      <td>0</td>\n",
       "    </tr>\n",
       "    <tr>\n",
       "      <td>3226</td>\n",
       "      <td>3316</td>\n",
       "      <td>0</td>\n",
       "    </tr>\n",
       "    <tr>\n",
       "      <td>2312</td>\n",
       "      <td>2383</td>\n",
       "      <td>0</td>\n",
       "    </tr>\n",
       "    <tr>\n",
       "      <td>1220</td>\n",
       "      <td>1259</td>\n",
       "      <td>0</td>\n",
       "    </tr>\n",
       "    <tr>\n",
       "      <td>3370</td>\n",
       "      <td>3462</td>\n",
       "      <td>1</td>\n",
       "    </tr>\n",
       "    <tr>\n",
       "      <td>3111</td>\n",
       "      <td>3199</td>\n",
       "      <td>0</td>\n",
       "    </tr>\n",
       "    <tr>\n",
       "      <td>1706</td>\n",
       "      <td>1760</td>\n",
       "      <td>1</td>\n",
       "    </tr>\n",
       "    <tr>\n",
       "      <td>2656</td>\n",
       "      <td>2735</td>\n",
       "      <td>0</td>\n",
       "    </tr>\n",
       "    <tr>\n",
       "      <td>1170</td>\n",
       "      <td>1208</td>\n",
       "      <td>0</td>\n",
       "    </tr>\n",
       "    <tr>\n",
       "      <td>4081</td>\n",
       "      <td>4185</td>\n",
       "      <td>0</td>\n",
       "    </tr>\n",
       "    <tr>\n",
       "      <td>3263</td>\n",
       "      <td>3354</td>\n",
       "      <td>0</td>\n",
       "    </tr>\n",
       "    <tr>\n",
       "      <td>3297</td>\n",
       "      <td>3389</td>\n",
       "      <td>1</td>\n",
       "    </tr>\n",
       "    <tr>\n",
       "      <td>2440</td>\n",
       "      <td>2514</td>\n",
       "      <td>0</td>\n",
       "    </tr>\n",
       "  </tbody>\n",
       "</table>\n",
       "</div>"
      ],
      "text/plain": [
       "      EmployeeID  Attrition\n",
       "133          142          0\n",
       "3594        3691          0\n",
       "497          517          0\n",
       "3226        3316          0\n",
       "2312        2383          0\n",
       "1220        1259          0\n",
       "3370        3462          1\n",
       "3111        3199          0\n",
       "1706        1760          1\n",
       "2656        2735          0\n",
       "1170        1208          0\n",
       "4081        4185          0\n",
       "3263        3354          0\n",
       "3297        3389          1\n",
       "2440        2514          0"
      ]
     },
     "execution_count": 21,
     "metadata": {},
     "output_type": "execute_result"
    }
   ],
   "source": [
    "real = pd.DataFrame()\n",
    "real['EmployeeID'] = Index_test\n",
    "real['Attrition'] = Y_test\n",
    "real.head(15)"
   ]
  },
  {
   "cell_type": "code",
   "execution_count": 25,
   "metadata": {},
   "outputs": [
    {
     "data": {
      "image/png": "[encoded data removed]",
      "text/plain": [
       "<Figure size 720x144 with 1 Axes>"
      ]
     },
     "metadata": {
      "needs_background": "light"
     },
     "output_type": "display_data"
    }
   ],
   "source": [
    "fig, (ax1) = plt.subplots(figsize=(10,2))\n",
    "ax1 = sns.countplot(x='Attrition', data=real, ax=ax1).set_title('Probability of employees leaving the company')\n",
    "\n",
    "presentation = real.sort_values(by='EmployeeID', ascending=True)"
   ]
  },
  {
   "cell_type": "code",
   "execution_count": null,
   "metadata": {},
   "outputs": [],
   "source": []
  }
 ],
 "metadata": {
  "kernelspec": {
   "display_name": "Python 3",
   "language": "python",
   "name": "python3"
  },
  "language_info": {
   "codemirror_mode": {
    "name": "ipython",
    "version": 3
   },
   "file_extension": ".py",
   "mimetype": "text/x-python",
   "name": "python",
   "nbconvert_exporter": "python",
   "pygments_lexer": "ipython3",
   "version": "3.7.4"
  }
 },
 "nbformat": 4,
 "nbformat_minor": 2
}
